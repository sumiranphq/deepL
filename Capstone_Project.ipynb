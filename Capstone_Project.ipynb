{
  "nbformat": 4,
  "nbformat_minor": 0,
  "metadata": {
    "kernelspec": {
      "display_name": "feedforward",
      "language": "python",
      "name": "feedforward"
    },
    "language_info": {
      "codemirror_mode": {
        "name": "ipython",
        "version": 3
      },
      "file_extension": ".py",
      "mimetype": "text/x-python",
      "name": "python",
      "nbconvert_exporter": "python",
      "pygments_lexer": "ipython3",
      "version": "3.6.9"
    },
    "colab": {
      "name": "Capstone Project.ipynb",
      "provenance": [],
      "collapsed_sections": [],
      "toc_visible": true,
      "include_colab_link": true
    }
  },
  "cells": [
    {
      "cell_type": "markdown",
      "metadata": {
        "id": "view-in-github",
        "colab_type": "text"
      },
      "source": [
        "<a href=\"https://colab.research.google.com/github/sumiranphq/deepL/blob/master/Capstone_Project.ipynb\" target=\"_parent\"><img src=\"https://colab.research.google.com/assets/colab-badge.svg\" alt=\"Open In Colab\"/></a>"
      ]
    },
    {
      "cell_type": "markdown",
      "metadata": {
        "id": "rffwkDWTz_Fo",
        "colab_type": "text"
      },
      "source": [
        "# Capstone Project\n",
        "## Image classifier for the SVHN dataset\n",
        "### Instructions\n",
        "\n",
        "In this notebook, you will create a neural network that classifies real-world images digits. You will use concepts from throughout this course in building, training, testing, validating and saving your Tensorflow classifier model.\n",
        "\n",
        "This project is peer-assessed. Within this notebook you will find instructions in each section for how to complete the project. Pay close attention to the instructions as the peer review will be carried out according to a grading rubric that checks key parts of the project instructions. Feel free to add extra cells into the notebook as required.\n",
        "\n",
        "### How to submit\n",
        "\n",
        "When you have completed the Capstone project notebook, you will submit a pdf of the notebook for peer review. First ensure that the notebook has been fully executed from beginning to end, and all of the cell outputs are visible. This is important, as the grading rubric depends on the reviewer being able to view the outputs of your notebook. Save the notebook as a pdf (you could download the notebook with File -> Download .ipynb, open the notebook locally, and then File -> Download as -> PDF via LaTeX), and then submit this pdf for review.\n",
        "\n",
        "### Let's get started!\n",
        "\n",
        "We'll start by running some imports, and loading the dataset. For this project you are free to make further imports throughout the notebook as you wish. "
      ]
    },
    {
      "cell_type": "code",
      "metadata": {
        "id": "O3vI8jSIz_Fs",
        "colab_type": "code",
        "colab": {}
      },
      "source": [
        "import tensorflow as tf\n",
        "from scipy.io import loadmat\n",
        "import numpy as np"
      ],
      "execution_count": 0,
      "outputs": []
    },
    {
      "cell_type": "markdown",
      "metadata": {
        "id": "8OrHY7TRz_Fx",
        "colab_type": "text"
      },
      "source": [
        "For the capstone project, you will use the [SVHN dataset](http://ufldl.stanford.edu/housenumbers/). This is an image dataset of over 600,000 digit images in all, and is a harder dataset than MNIST as the numbers appear in the context of natural scene images. SVHN is obtained from house numbers in Google Street View images.\n",
        "\n",
        "* Y. Netzer, T. Wang, A. Coates, A. Bissacco, B. Wu and A. Y. Ng. \"Reading Digits in Natural Images with Unsupervised Feature Learning\". NIPS Workshop on Deep Learning and Unsupervised Feature Learning, 2011.\n",
        "\n",
        "The train and test datasets required for this project can be downloaded from [here](http://ufldl.stanford.edu/housenumbers/train.tar.gz) and [here](http://ufldl.stanford.edu/housenumbers/test.tar.gz). Once unzipped, you will have two files: `train_32x32.mat` and `test_32x32.mat`. You should store these files in Drive for use in this Colab notebook.\n",
        "\n",
        "Your goal is to develop an end-to-end workflow for building, training, validating, evaluating and saving a neural network that classifies a real-world image into one of ten classes."
      ]
    },
    {
      "cell_type": "code",
      "metadata": {
        "id": "r8BHW8P_2wxw",
        "colab_type": "code",
        "colab": {
          "base_uri": "https://localhost:8080/",
          "height": 122
        },
        "outputId": "e86a9782-aa36-4c7d-a024-30f2c1f14dbb"
      },
      "source": [
        "# Run this cell to connect to your Drive folder\n",
        "\n",
        "from google.colab import drive\n",
        "drive.mount('/content/gdrive')"
      ],
      "execution_count": 2,
      "outputs": [
        {
          "output_type": "stream",
          "text": [
            "Go to this URL in a browser: https://accounts.google.com/o/oauth2/auth?client_id=947318989803-6bn6qk8qdgf4n4g3pfee6491hc0brc4i.apps.googleusercontent.com&redirect_uri=urn%3aietf%3awg%3aoauth%3a2.0%3aoob&response_type=code&scope=email%20https%3a%2f%2fwww.googleapis.com%2fauth%2fdocs.test%20https%3a%2f%2fwww.googleapis.com%2fauth%2fdrive%20https%3a%2f%2fwww.googleapis.com%2fauth%2fdrive.photos.readonly%20https%3a%2f%2fwww.googleapis.com%2fauth%2fpeopleapi.readonly\n",
            "\n",
            "Enter your authorization code:\n",
            "··········\n",
            "Mounted at /content/gdrive\n"
          ],
          "name": "stdout"
        }
      ]
    },
    {
      "cell_type": "code",
      "metadata": {
        "id": "YWdiz3n_z_Fy",
        "colab_type": "code",
        "colab": {}
      },
      "source": [
        "# Load the dataset from your Drive folder\n",
        "train = loadmat('/content/gdrive/My Drive/SVNH/train/train_32x32.mat')\n",
        "test = loadmat('/content/gdrive/My Drive/SVNH/test/test_32x32.mat')"
      ],
      "execution_count": 0,
      "outputs": []
    },
    {
      "cell_type": "markdown",
      "metadata": {
        "id": "Sot1IcuZz_F2",
        "colab_type": "text"
      },
      "source": [
        "Both `train` and `test` are dictionaries with keys `X` and `y` for the input images and labels respectively."
      ]
    },
    {
      "cell_type": "markdown",
      "metadata": {
        "id": "_Q1n_Ai2z_F3",
        "colab_type": "text"
      },
      "source": [
        "## 1. Inspect and preprocess the dataset\n",
        "* Extract the training and testing images and labels separately from the train and test dictionaries loaded for you.\n",
        "* Select a random sample of images and corresponding labels from the dataset (at least 10), and display them in a figure.\n",
        "* Convert the training and test images to grayscale by taking the average across all colour channels for each pixel. _Hint: retain the channel dimension, which will now have size 1._\n",
        "* Select a random sample of the grayscale images and corresponding labels from the dataset (at least 10), and display them in a figure."
      ]
    },
    {
      "cell_type": "code",
      "metadata": {
        "id": "-WIH5hyXz_F4",
        "colab_type": "code",
        "colab": {}
      },
      "source": [
        "import matplotlib.pyplot as plt\n",
        "import random"
      ],
      "execution_count": 0,
      "outputs": []
    },
    {
      "cell_type": "code",
      "metadata": {
        "id": "UXYwWhHpz_GD",
        "colab_type": "code",
        "colab": {
          "base_uri": "https://localhost:8080/",
          "height": 1000
        },
        "outputId": "269f10e6-4d4f-4b77-b704-75ba5d4ada80"
      },
      "source": [
        "for i in range(0,10):\n",
        "  r = random.randint(0,len(train['X'][0][0][0]))\n",
        "  image = train['X'][:,:,:,r]\n",
        "  print(train['X'][0,0,0,r])\n",
        "  print(train['X'][0,0,1,r])\n",
        "  print(train['X'][0,0,2,r])\n",
        "  image_mean = np.average(image, axis=(2))\n",
        "  print(image_mean[0][0])\n",
        "  imgplot = plt.imshow(image_mean)\n",
        "  plt.show()\n",
        "  print('labels %s' % train['y'][r])"
      ],
      "execution_count": 5,
      "outputs": [
        {
          "output_type": "stream",
          "text": [
            "165\n",
            "171\n",
            "183\n",
            "173.0\n"
          ],
          "name": "stdout"
        },
        {
          "output_type": "display_data",
          "data": {
            "image/png": "[encoded data removed]",
            "text/plain": [
              "<Figure size 432x288 with 1 Axes>"
            ]
          },
          "metadata": {
            "tags": [],
            "needs_background": "light"
          }
        },
        {
          "output_type": "stream",
          "text": [
            "labels [3]\n",
            "83\n",
            "95\n",
            "119\n",
            "99.0\n"
          ],
          "name": "stdout"
        },
        {
          "output_type": "display_data",
          "data": {
            "image/png": "[encoded data removed]",
            "text/plain": [
              "<Figure size 432x288 with 1 Axes>"
            ]
          },
          "metadata": {
            "tags": [],
            "needs_background": "light"
          }
        },
        {
          "output_type": "stream",
          "text": [
            "labels [6]\n",
            "168\n",
            "159\n",
            "144\n",
            "157.0\n"
          ],
          "name": "stdout"
        },
        {
          "output_type": "display_data",
          "data": {
            "image/png": "[encoded data removed]",
            "text/plain": [
              "<Figure size 432x288 with 1 Axes>"
            ]
          },
          "metadata": {
            "tags": [],
            "needs_background": "light"
          }
        },
        {
          "output_type": "stream",
          "text": [
            "labels [10]\n",
            "124\n",
            "76\n",
            "105\n",
            "101.66666666666667\n"
          ],
          "name": "stdout"
        },
        {
          "output_type": "display_data",
          "data": {
            "image/png": "[encoded data removed]",
            "text/plain": [
              "<Figure size 432x288 with 1 Axes>"
            ]
          },
          "metadata": {
            "tags": [],
            "needs_background": "light"
          }
        },
        {
          "output_type": "stream",
          "text": [
            "labels [1]\n",
            "127\n",
            "155\n",
            "167\n",
            "149.66666666666666\n"
          ],
          "name": "stdout"
        },
        {
          "output_type": "display_data",
          "data": {
            "image/png": "[encoded data removed]",
            "text/plain": [
              "<Figure size 432x288 with 1 Axes>"
            ]
          },
          "metadata": {
            "tags": [],
            "needs_background": "light"
          }
        },
        {
          "output_type": "stream",
          "text": [
            "labels [2]\n",
            "25\n",
            "34\n",
            "33\n",
            "30.666666666666668\n"
          ],
          "name": "stdout"
        },
        {
          "output_type": "display_data",
          "data": {
            "image/png": "[encoded data removed]",
            "text/plain": [
              "<Figure size 432x288 with 1 Axes>"
            ]
          },
          "metadata": {
            "tags": [],
            "needs_background": "light"
          }
        },
        {
          "output_type": "stream",
          "text": [
            "labels [8]\n",
            "99\n",
            "106\n",
            "115\n",
            "106.66666666666667\n"
          ],
          "name": "stdout"
        },
        {
          "output_type": "display_data",
          "data": {
            "image/png": "[encoded data removed]",
            "text/plain": [
              "<Figure size 432x288 with 1 Axes>"
            ]
          },
          "metadata": {
            "tags": [],
            "needs_background": "light"
          }
        },
        {
          "output_type": "stream",
          "text": [
            "labels [2]\n",
            "121\n",
            "121\n",
            "119\n",
            "120.33333333333333\n"
          ],
          "name": "stdout"
        },
        {
          "output_type": "display_data",
          "data": {
            "image/png": "[encoded data removed]",
            "text/plain": [
              "<Figure size 432x288 with 1 Axes>"
            ]
          },
          "metadata": {
            "tags": [],
            "needs_background": "light"
          }
        },
        {
          "output_type": "stream",
          "text": [
            "labels [1]\n",
            "167\n",
            "162\n",
            "161\n",
            "163.33333333333334\n"
          ],
          "name": "stdout"
        },
        {
          "output_type": "display_data",
          "data": {
            "image/png": "[encoded data removed]",
            "text/plain": [
              "<Figure size 432x288 with 1 Axes>"
            ]
          },
          "metadata": {
            "tags": [],
            "needs_background": "light"
          }
        },
        {
          "output_type": "stream",
          "text": [
            "labels [2]\n",
            "123\n",
            "67\n",
            "40\n",
            "76.66666666666667\n"
          ],
          "name": "stdout"
        },
        {
          "output_type": "display_data",
          "data": {
            "image/png": "[encoded data removed]",
            "text/plain": [
              "<Figure size 432x288 with 1 Axes>"
            ]
          },
          "metadata": {
            "tags": [],
            "needs_background": "light"
          }
        },
        {
          "output_type": "stream",
          "text": [
            "labels [4]\n"
          ],
          "name": "stdout"
        }
      ]
    },
    {
      "cell_type": "markdown",
      "metadata": {
        "id": "7e7iSyWXz_GN",
        "colab_type": "text"
      },
      "source": [
        "## 2. MLP neural network classifier\n",
        "* Build an MLP classifier model using the Sequential API. Your model should use only Flatten and Dense layers, with the final layer having a 10-way softmax output. \n",
        "* You should design and build the model yourself. Feel free to experiment with different MLP architectures. _Hint: to achieve a reasonable accuracy you won't need to use more than 4 or 5 layers._\n",
        "* Print out the model summary (using the summary() method)\n",
        "* Compile and train the model (we recommend a maximum of 30 epochs), making use of both training and validation sets during the training run. \n",
        "* Your model should track at least one appropriate metric, and use at least two callbacks during training, one of which should be a ModelCheckpoint callback.\n",
        "* As a guide, you should aim to achieve a final categorical cross entropy training loss of less than 1.0 (the validation loss might be higher).\n",
        "* Plot the learning curves for loss vs epoch and accuracy vs epoch for both training and validation sets.\n",
        "* Compute and display the loss and accuracy of the trained model on the test set."
      ]
    },
    {
      "cell_type": "code",
      "metadata": {
        "id": "l14VCBFVz_GO",
        "colab_type": "code",
        "colab": {}
      },
      "source": [
        "from tensorflow.keras.models import Sequential\n",
        "from tensorflow.keras.layers import Dense, Flatten\n",
        "from tensorflow.keras.callbacks import ModelCheckpoint, EarlyStopping"
      ],
      "execution_count": 0,
      "outputs": []
    },
    {
      "cell_type": "code",
      "metadata": {
        "id": "beEZO1kvz_GR",
        "colab_type": "code",
        "colab": {
          "base_uri": "https://localhost:8080/",
          "height": 391
        },
        "outputId": "5dbecdd5-ca3f-4256-d3fd-6f4f5a7a7ade"
      },
      "source": [
        "nn_model = Sequential([Flatten(input_shape=(32,32,3)), Dense( 32, activation='relu'), Dense( 20, activation='relu'),Dense( 14, activation='relu'), Dense( 16, activation='relu'), Dense( 20, activation='relu'),Dense( 10, activation='softmax')])\n",
        "nn_model.summary()"
      ],
      "execution_count": 7,
      "outputs": [
        {
          "output_type": "stream",
          "text": [
            "Model: \"sequential\"\n",
            "_________________________________________________________________\n",
            "Layer (type)                 Output Shape              Param #   \n",
            "=================================================================\n",
            "flatten (Flatten)            (None, 3072)              0         \n",
            "_________________________________________________________________\n",
            "dense (Dense)                (None, 32)                98336     \n",
            "_________________________________________________________________\n",
            "dense_1 (Dense)              (None, 20)                660       \n",
            "_________________________________________________________________\n",
            "dense_2 (Dense)              (None, 14)                294       \n",
            "_________________________________________________________________\n",
            "dense_3 (Dense)              (None, 16)                240       \n",
            "_________________________________________________________________\n",
            "dense_4 (Dense)              (None, 20)                340       \n",
            "_________________________________________________________________\n",
            "dense_5 (Dense)              (None, 10)                210       \n",
            "=================================================================\n",
            "Total params: 100,080\n",
            "Trainable params: 100,080\n",
            "Non-trainable params: 0\n",
            "_________________________________________________________________\n"
          ],
          "name": "stdout"
        }
      ]
    },
    {
      "cell_type": "code",
      "metadata": {
        "id": "YxJXq3xYz_GU",
        "colab_type": "code",
        "colab": {}
      },
      "source": [
        "nn_model.compile(optimizer='adam', loss='sparse_categorical_crossentropy', metrics=['accuracy'])"
      ],
      "execution_count": 0,
      "outputs": []
    },
    {
      "cell_type": "code",
      "metadata": {
        "id": "2UBMa2SAWm85",
        "colab_type": "code",
        "colab": {}
      },
      "source": [
        "train['y'] = train['y'].reshape(len(train['y']))\n",
        "train['y'] = train['y'] -1"
      ],
      "execution_count": 0,
      "outputs": []
    },
    {
      "cell_type": "code",
      "metadata": {
        "id": "eWvv3FNHX3mm",
        "colab_type": "code",
        "colab": {}
      },
      "source": [
        "test['y'] = test['y'].reshape(len(test['y']))\n",
        "test['y'] = test['y'] -1"
      ],
      "execution_count": 0,
      "outputs": []
    },
    {
      "cell_type": "code",
      "metadata": {
        "id": "ktQ2LPcjX-Om",
        "colab_type": "code",
        "colab": {
          "base_uri": "https://localhost:8080/",
          "height": 34
        },
        "outputId": "cdc0f574-779e-4755-f745-039758e38f86"
      },
      "source": [
        "train['y'].shape\n",
        "test['y'].shape"
      ],
      "execution_count": 15,
      "outputs": [
        {
          "output_type": "execute_result",
          "data": {
            "text/plain": [
              "(26032,)"
            ]
          },
          "metadata": {
            "tags": []
          },
          "execution_count": 15
        }
      ]
    },
    {
      "cell_type": "code",
      "metadata": {
        "id": "pPPbzGhVz_GW",
        "colab_type": "code",
        "colab": {
          "base_uri": "https://localhost:8080/",
          "height": 323
        },
        "outputId": "13ce5578-0d23-4558-bedd-f5f82a5bf4d0"
      },
      "source": [
        "nn_history = nn_model.fit(np.moveaxis(train['X'], -1,0), train['y'], epochs=10, batch_size=256, callbacks=[EarlyStopping(monitor='accuracy')], validation_data=(np.moveaxis(test['X'],-1,0), test['y']))"
      ],
      "execution_count": 30,
      "outputs": [
        {
          "output_type": "stream",
          "text": [
            "Epoch 1/10\n",
            "287/287 [==============================] - 3s 9ms/step - loss: 1.7939 - accuracy: 0.3820 - val_loss: 2.0934 - val_accuracy: 0.3077\n",
            "Epoch 2/10\n",
            "287/287 [==============================] - 3s 9ms/step - loss: 1.7684 - accuracy: 0.3984 - val_loss: 1.9307 - val_accuracy: 0.3550\n",
            "Epoch 3/10\n",
            "287/287 [==============================] - 3s 9ms/step - loss: 1.7260 - accuracy: 0.4136 - val_loss: 1.9412 - val_accuracy: 0.3576\n",
            "Epoch 4/10\n",
            "287/287 [==============================] - 3s 9ms/step - loss: 1.7116 - accuracy: 0.4155 - val_loss: 1.7796 - val_accuracy: 0.4005\n",
            "Epoch 5/10\n",
            "287/287 [==============================] - 3s 9ms/step - loss: 1.6923 - accuracy: 0.4260 - val_loss: 1.9028 - val_accuracy: 0.3816\n",
            "Epoch 6/10\n",
            "287/287 [==============================] - 4s 13ms/step - loss: 1.6669 - accuracy: 0.4314 - val_loss: 1.8079 - val_accuracy: 0.4078\n",
            "Epoch 7/10\n",
            "287/287 [==============================] - 4s 15ms/step - loss: 1.6591 - accuracy: 0.4361 - val_loss: 1.7143 - val_accuracy: 0.4324\n",
            "Epoch 8/10\n",
            "287/287 [==============================] - 3s 10ms/step - loss: 1.6519 - accuracy: 0.4384 - val_loss: 1.8924 - val_accuracy: 0.3850\n",
            "Epoch 9/10\n",
            "287/287 [==============================] - 3s 9ms/step - loss: 1.6712 - accuracy: 0.4314 - val_loss: 1.7600 - val_accuracy: 0.4087\n"
          ],
          "name": "stdout"
        }
      ]
    },
    {
      "cell_type": "markdown",
      "metadata": {
        "id": "ncPtDtCLz_Gg",
        "colab_type": "text"
      },
      "source": [
        "## 3. CNN neural network classifier\n",
        "* Build a CNN classifier model using the Sequential API. Your model should use the Conv2D, MaxPool2D, BatchNormalization, Flatten, Dense and Dropout layers. The final layer should again have a 10-way softmax output. \n",
        "* You should design and build the model yourself. Feel free to experiment with different CNN architectures. _Hint: to achieve a reasonable accuracy you won't need to use more than 2 or 3 convolutional layers and 2 fully connected layers.)_\n",
        "* The CNN model should use fewer trainable parameters than your MLP model.\n",
        "* Compile and train the model (we recommend a maximum of 30 epochs), making use of both training and validation sets during the training run.\n",
        "* Your model should track at least one appropriate metric, and use at least two callbacks during training, one of which should be a ModelCheckpoint callback.\n",
        "* You should aim to beat the MLP model performance with fewer parameters!\n",
        "* Plot the learning curves for loss vs epoch and accuracy vs epoch for both training and validation sets.\n",
        "* Compute and display the loss and accuracy of the trained model on the test set."
      ]
    },
    {
      "cell_type": "code",
      "metadata": {
        "id": "q4LbrHzLwrpG",
        "colab_type": "code",
        "colab": {
          "base_uri": "https://localhost:8080/",
          "height": 493
        },
        "outputId": "2a5bda61-7cfb-4ec9-a5ea-7db0860ec0a0"
      },
      "source": [
        "from tensorflow.keras.layers import Conv2D, MaxPooling2D, Dropout, BatchNormalization \n",
        "\n",
        "cnn_model = Sequential()\n",
        "cnn_model.add(Conv2D(16,(3,3),activation='relu',input_shape=(32,32,3) ))\n",
        "cnn_model.add(MaxPooling2D(2,2))\n",
        "cnn_model.add(BatchNormalization())\n",
        "cnn_model.add(Conv2D(10,(3,3),activation='relu', ))\n",
        "cnn_model.add(MaxPooling2D(3,3))\n",
        "cnn_model.add(Flatten())\n",
        "cnn_model.add(Dense(30))\n",
        "cnn_model.add(Dropout(0.3))\n",
        "cnn_model.add(Dense(20))\n",
        "cnn_model.add(Dense(10, activation='softmax'))\n",
        "cnn_model.summary()"
      ],
      "execution_count": 18,
      "outputs": [
        {
          "output_type": "stream",
          "text": [
            "Model: \"sequential_1\"\n",
            "_________________________________________________________________\n",
            "Layer (type)                 Output Shape              Param #   \n",
            "=================================================================\n",
            "conv2d (Conv2D)              (None, 30, 30, 16)        448       \n",
            "_________________________________________________________________\n",
            "max_pooling2d (MaxPooling2D) (None, 15, 15, 16)        0         \n",
            "_________________________________________________________________\n",
            "batch_normalization (BatchNo (None, 15, 15, 16)        64        \n",
            "_________________________________________________________________\n",
            "conv2d_1 (Conv2D)            (None, 13, 13, 10)        1450      \n",
            "_________________________________________________________________\n",
            "max_pooling2d_1 (MaxPooling2 (None, 4, 4, 10)          0         \n",
            "_________________________________________________________________\n",
            "flatten_1 (Flatten)          (None, 160)               0         \n",
            "_________________________________________________________________\n",
            "dense_6 (Dense)              (None, 30)                4830      \n",
            "_________________________________________________________________\n",
            "dropout (Dropout)            (None, 30)                0         \n",
            "_________________________________________________________________\n",
            "dense_7 (Dense)              (None, 20)                620       \n",
            "_________________________________________________________________\n",
            "dense_8 (Dense)              (None, 10)                210       \n",
            "=================================================================\n",
            "Total params: 7,622\n",
            "Trainable params: 7,590\n",
            "Non-trainable params: 32\n",
            "_________________________________________________________________\n"
          ],
          "name": "stdout"
        }
      ]
    },
    {
      "cell_type": "code",
      "metadata": {
        "id": "yk2mH3Npz_Gh",
        "colab_type": "code",
        "colab": {}
      },
      "source": [
        "cnn_model.compile(optimizer='adam', loss='sparse_categorical_crossentropy', metrics=['accuracy'])\n"
      ],
      "execution_count": 0,
      "outputs": []
    },
    {
      "cell_type": "code",
      "metadata": {
        "id": "lbgRgZ5cz_Gn",
        "colab_type": "code",
        "colab": {
          "base_uri": "https://localhost:8080/",
          "height": 598
        },
        "outputId": "bff9d932-2b7c-41d5-d3c9-592368fe87e9"
      },
      "source": [
        "history = cnn_model.fit(np.moveaxis(train['X'],-1,0), train['y'], validation_data=(np.moveaxis(test['X'],-1,0), test['y']), epochs=10, batch_size=256,callbacks=[ModelCheckpoint(filepath='.'), EarlyStopping(monitor='accuracy')])"
      ],
      "execution_count": 20,
      "outputs": [
        {
          "output_type": "stream",
          "text": [
            "Epoch 1/10\n",
            "286/287 [============================>.] - ETA: 0s - loss: 1.5261 - accuracy: 0.5037WARNING:tensorflow:From /usr/local/lib/python3.6/dist-packages/tensorflow/python/ops/resource_variable_ops.py:1817: calling BaseResourceVariable.__init__ (from tensorflow.python.ops.resource_variable_ops) with constraint is deprecated and will be removed in a future version.\n",
            "Instructions for updating:\n",
            "If using Keras pass *_constraint arguments to layers.\n",
            "INFO:tensorflow:Assets written to: ./assets\n",
            "287/287 [==============================] - 42s 148ms/step - loss: 1.5259 - accuracy: 0.5038 - val_loss: 0.9217 - val_accuracy: 0.7395\n",
            "Epoch 2/10\n",
            "286/287 [============================>.] - ETA: 0s - loss: 0.8511 - accuracy: 0.7474INFO:tensorflow:Assets written to: ./assets\n",
            "287/287 [==============================] - 42s 148ms/step - loss: 0.8510 - accuracy: 0.7474 - val_loss: 0.8616 - val_accuracy: 0.7573\n",
            "Epoch 3/10\n",
            "286/287 [============================>.] - ETA: 0s - loss: 0.7435 - accuracy: 0.7828INFO:tensorflow:Assets written to: ./assets\n",
            "287/287 [==============================] - 42s 147ms/step - loss: 0.7433 - accuracy: 0.7829 - val_loss: 0.7984 - val_accuracy: 0.7694\n",
            "Epoch 4/10\n",
            "286/287 [============================>.] - ETA: 0s - loss: 0.6952 - accuracy: 0.7985INFO:tensorflow:Assets written to: ./assets\n",
            "287/287 [==============================] - 42s 148ms/step - loss: 0.6953 - accuracy: 0.7985 - val_loss: 0.6787 - val_accuracy: 0.8089\n",
            "Epoch 5/10\n",
            "286/287 [============================>.] - ETA: 0s - loss: 0.6685 - accuracy: 0.8074INFO:tensorflow:Assets written to: ./assets\n",
            "287/287 [==============================] - 42s 147ms/step - loss: 0.6689 - accuracy: 0.8074 - val_loss: 0.7465 - val_accuracy: 0.7820\n",
            "Epoch 6/10\n",
            "286/287 [============================>.] - ETA: 0s - loss: 0.6462 - accuracy: 0.8138INFO:tensorflow:Assets written to: ./assets\n",
            "287/287 [==============================] - 42s 147ms/step - loss: 0.6461 - accuracy: 0.8138 - val_loss: 0.7783 - val_accuracy: 0.7682\n",
            "Epoch 7/10\n",
            "286/287 [============================>.] - ETA: 0s - loss: 0.6264 - accuracy: 0.8200INFO:tensorflow:Assets written to: ./assets\n",
            "287/287 [==============================] - 42s 147ms/step - loss: 0.6263 - accuracy: 0.8200 - val_loss: 0.7439 - val_accuracy: 0.7843\n",
            "Epoch 8/10\n",
            "286/287 [============================>.] - ETA: 0s - loss: 0.6096 - accuracy: 0.8238INFO:tensorflow:Assets written to: ./assets\n",
            "287/287 [==============================] - 42s 146ms/step - loss: 0.6097 - accuracy: 0.8237 - val_loss: 0.6545 - val_accuracy: 0.8125\n",
            "Epoch 9/10\n",
            "286/287 [============================>.] - ETA: 0s - loss: 0.6012 - accuracy: 0.8276INFO:tensorflow:Assets written to: ./assets\n",
            "287/287 [==============================] - 42s 146ms/step - loss: 0.6013 - accuracy: 0.8275 - val_loss: 0.6571 - val_accuracy: 0.8147\n",
            "Epoch 10/10\n",
            "286/287 [============================>.] - ETA: 0s - loss: 0.5883 - accuracy: 0.8311INFO:tensorflow:Assets written to: ./assets\n",
            "287/287 [==============================] - 42s 147ms/step - loss: 0.5884 - accuracy: 0.8311 - val_loss: 0.6411 - val_accuracy: 0.8175\n"
          ],
          "name": "stdout"
        }
      ]
    },
    {
      "cell_type": "code",
      "metadata": {
        "id": "60mJypwQz_Gx",
        "colab_type": "code",
        "colab": {}
      },
      "source": [
        "import pandas as pd\n",
        "frame = pd.DataFrame(history.history)\n",
        "nn_frame=pd.DataFrame(nn_history.history)\n",
        "epochs = np.arange(len(frame))\n",
        "nn_epochs = np.arange(len(nn_frame))"
      ],
      "execution_count": 0,
      "outputs": []
    },
    {
      "cell_type": "code",
      "metadata": {
        "id": "w2v80qosz_G0",
        "colab_type": "code",
        "colab": {
          "base_uri": "https://localhost:8080/",
          "height": 421
        },
        "outputId": "0517bef2-8ff6-4e45-cd78-1cceafeb5ca3"
      },
      "source": [
        "fig = plt.figure(figsize=(14,6))\n",
        "ax = fig.add_subplot(121)\n",
        "ax.plot(epochs, frame['loss'], label='Loss')\n",
        "ax.plot(epochs, frame['val_loss'], label='Validation Loss')\n",
        "ax.plot(nn_epochs, nn_frame['loss'], label='NN Loss')\n",
        "ax.plot(nn_epochs, nn_frame['val_loss'], label='NN Validation Loss')\n",
        "ax.set_xlabel('Epochs')\n",
        "ax.set_ylabel('Loss')\n",
        "ax.set_title('Loss vs Epochs')\n",
        "ax.legend()\n",
        "\n",
        "\n",
        "ay = fig.add_subplot(122)\n",
        "ay.plot(epochs, frame['accuracy'], label='Accuracy')\n",
        "ay.plot(epochs, frame['val_accuracy'], label='Val Accuracy')\n",
        "ay.plot(nn_epochs, nn_frame['accuracy'], label='NN Accuracy')\n",
        "ay.plot(nn_epochs, nn_frame['val_accuracy'], label='NN Val Accuracy')\n",
        "ay.set_xlabel('Epochs')\n",
        "ay.set_ylabel('Accuracy')\n",
        "ay.set_title('Accuracy vs Epochs')\n",
        "ay.legend()"
      ],
      "execution_count": 37,
      "outputs": [
        {
          "output_type": "execute_result",
          "data": {
            "text/plain": [
              "<matplotlib.legend.Legend at 0x7fcc65df5cf8>"
            ]
          },
          "metadata": {
            "tags": []
          },
          "execution_count": 37
        },
        {
          "output_type": "display_data",
          "data": {
            "image/png": "[encoded data removed]",
            "text/plain": [
              "<Figure size 1008x432 with 2 Axes>"
            ]
          },
          "metadata": {
            "tags": [],
            "needs_background": "light"
          }
        }
      ]
    },
    {
      "cell_type": "markdown",
      "metadata": {
        "id": "3iBYFPWUz_G4",
        "colab_type": "text"
      },
      "source": [
        "## 4. Get model predictions\n",
        "* Load the best weights for the MLP and CNN models that you saved during the training run.\n",
        "* Randomly select 5 images and corresponding labels from the test set and display the images with their labels.\n",
        "* Alongside the image and label, show each model’s predictive distribution as a bar chart, and the final model prediction given by the label with maximum probability."
      ]
    },
    {
      "cell_type": "code",
      "metadata": {
        "id": "XMYYWs0oz_G5",
        "colab_type": "code",
        "colab": {}
      },
      "source": [
        ""
      ],
      "execution_count": 0,
      "outputs": []
    },
    {
      "cell_type": "code",
      "metadata": {
        "id": "8yUPWbFCz_G8",
        "colab_type": "code",
        "colab": {}
      },
      "source": [
        ""
      ],
      "execution_count": 0,
      "outputs": []
    },
    {
      "cell_type": "code",
      "metadata": {
        "id": "W48syko0z_G-",
        "colab_type": "code",
        "colab": {}
      },
      "source": [
        ""
      ],
      "execution_count": 0,
      "outputs": []
    },
    {
      "cell_type": "code",
      "metadata": {
        "id": "J_qfLvK-z_HA",
        "colab_type": "code",
        "colab": {}
      },
      "source": [
        ""
      ],
      "execution_count": 0,
      "outputs": []
    },
    {
      "cell_type": "code",
      "metadata": {
        "id": "2Lx68VA7z_HE",
        "colab_type": "code",
        "colab": {}
      },
      "source": [
        ""
      ],
      "execution_count": 0,
      "outputs": []
    },
    {
      "cell_type": "code",
      "metadata": {
        "id": "NxKa37PWz_HL",
        "colab_type": "code",
        "colab": {}
      },
      "source": [
        ""
      ],
      "execution_count": 0,
      "outputs": []
    }
  ]
}